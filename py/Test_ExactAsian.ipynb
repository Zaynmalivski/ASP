{
 "cells": [
  {
   "cell_type": "markdown",
   "metadata": {
    "slideshow": {
     "slide_type": "slide"
    }
   },
   "source": [
    "# Spectral Expansions for Asian Options\n",
    "\n",
    "## Distributional properties\n",
    "\n",
    "We assume that  under the risk-neutral probability measure, the underlying asset price follows a geometric Brownian motion process:\n",
    "$$S_t = S_0 e^{\\sigma B_t + (r-q-\\sigma^2 /2)t}$$\n",
    "\n",
    "Let $\\mathscr{A}_t$ be the continuously sampled arithmetic average price:\n",
    "$$\\mathscr{A}_t=\\frac{1}{t}\\int_0^t S_u du$$\n",
    "\n",
    "\n",
    "From the general form of option pricing formula $e^{-rT}\\mathbb{E}[(K-\\mathscr{A}_T)^+]$, make the following derivation:\n",
    "$$\\left(K-\\frac{1}{T}\\int^T_0S_udu\\right)^+=\\frac{4S_0}{\\sigma^2T}\\left(k-\\frac{\\sigma^2}{4S_0}\\int^{\\tau}_0S_0e^{\\sigma B_u+(r-q-\\sigma^2/2)u}d\\left(\\frac{\\sigma^2 u}{4}\\right)\\right)^+\\\\\n",
    "=\\frac{4S_0}{\\sigma^2T}\\left(k-\\int^{\\tau}_0e^{2(B_t+\\nu t)}dt\\right)$$\n",
    "\n",
    "\n",
    "Define *Brownian exponential functional* $A_{\\tau}^{(\\nu)}$:\n",
    "$$A_{\\tau}^{(\\nu)}:=\\int^{\\tau}_0e^{2(B_t+\\nu t)}dt$$\n",
    "\n",
    "\n",
    "From the invariance by time reversal of the distribution of a Levy process, the following process $X_t$ has an identity in law, $X_t \\overset{(law)}{=}A_{t}^{(\\nu)} $:\n",
    "$$X_t = \\int_0^T \\exp{\\left(2(B_t-B_u)+2\\nu (t-u)\\right)}du, X_0=0$$\n",
    "\n",
    "\n",
    "From Ito's fomula, we express the SDE of $X_t$ as:\n",
    "$$dX_t = \\left[2(\\nu+1)X_t+1\\right]+2X_tdB_t$$\n",
    "This $X_t$ is a one-dimensional diffusion process on $[0,\\infty)$ started at $X_0 = 0$ and with the infinitesimal diffusion $a(x)=2x$, infinitesimal drift $b(x)=2(\\nu+1)x+1$, and infinitesimal generator\n",
    "$$\n",
    "\\begin{align}\n",
    "(\\mathscr{G}f)(x)&=\\frac{1}{2}a^2(x)f''(x)+b(x)f'(x)\\\\&=2x^2f''(x)+[2(\\nu+1)+1]f'(x)\n",
    "\\end{align}\n",
    "$$\n",
    "This diffusion has scale and speed densities:\n",
    "$$\\mathscr{s}(x)=\\exp{\\left(-\\int\\frac{2b(x)}{a^2(x)}dx\\right)}=x^{-\\nu-1}e^{1/2x}$$\n",
    "$$\\mathscr{m}(x)=\\frac{2}{a^2(x)\\mathscr{s}(x)}=\\frac{1}{2}x^{\\nu-1}e^{-1/2x}$$\n",
    "\n",
    "In addition, this paper also consider *up-and-out puts* on the diffusion X. For $b>k$, consider functions\n",
    "$$P^{(\\nu)}(k,\\tau):=\\mathbb{E}\\left[(k-X_t)^+\\right],P_b^{(\\nu)}(k,\\tau):=\\mathbb{E}\\left[1_{\\{\\mathscr{T}_b>\\tau\\}}(k-X_\\tau)^+\\right]$$\n",
    "where $\\mathscr{T}_b:=inf\\{t\\ge0:X_t=b\\}$ is the first hitting time of $b$ and $1_{\\{\\mathscr{T}_b>\\tau\\}}=1$ if $\\mathscr{T}_b>\\tau$. Their strategy is to first calculate the function $P_b^{(\\nu)}(k,\\tau)$ and then take the limit $b\\uparrow\\infty$ to recover the function $P^{(\\nu)}(k,\\tau)$"
   ]
  },
  {
   "cell_type": "markdown",
   "metadata": {
    "slideshow": {
     "slide_type": "slide"
    }
   },
   "source": [
    "## Whittaker functions\n",
    "\n",
    "The Whittaker functions are solutions to the ODE\n",
    "$$\\frac{d^2w}{dz^2}+\\left(-\\frac{1}{4}+\\frac{\\kappa}{z}+\\frac{1/4-\\mu^2}{z^2}\\right)w=0$$\n",
    "\n",
    "There are two linearly independent solutions to the ODE:\n",
    "$$M_{\\kappa,\\mu}=\\exp{(-z/2)}z^{\\mu+1/2}M\\left(\\mu-\\kappa+\\frac{1}{2},1+2\\mu;z\\right),$$\n",
    "$$W_{\\kappa,\\mu}=\\exp{(-z/2)}z^{\\mu+1/2}U\\left(\\mu-\\kappa+\\frac{1}{2},1+2\\mu;z\\right)$$\n",
    "where\n",
    "$$M(a,b,z)=\\sum_{k=0}^\\infty\\frac{(a)_k}{(b)_k}\\frac{z^k}{k!}$$\n",
    "$$U(a,b,z)=\\frac{\\pi}{\\sin{b\\pi}}\\left(\\frac{M(a,b,z)}{\\Gamma(1+a-b)\\Gamma(b)}-z^{1-b}\\frac{M(1+a-b,2-b,z)}{\\Gamma(a)\\Gamma(2-b)}\\right)$$"
   ]
  },
  {
   "cell_type": "markdown",
   "metadata": {
    "slideshow": {
     "slide_type": "slide"
    }
   },
   "source": [
    "## Up-and-out puts price derivation\n",
    "\n",
    "From the last section, $P_b^{(\\nu)}(k,\\tau)$ is what we care the most, we need the following integral to calculate:\n",
    "$$P_b^{(\\nu)}(k,\\tau)=\\int_0^k (k-y)p_b(\\tau;0,y)\\mathscr{m}(y)dy$$\n",
    "where $p_b(t;x,y)$ is the transition probability density w.r.t. the speed measure $\\mathscr{m}(y)dy$ of the infinitesimal generator $(\\mathscr{G}f)(x)$ started at $x\\in[0,b)$ and killed at $b$.\n",
    "\n",
    "This prob density admit a spectral representation\n",
    "$$p_b(t;x,y)=\\sum_{n=1}^\\infty e^{-\\lambda_n \\tau}\\varphi_n(x)\\varphi_n(y)$$\n",
    "where $\\{\\lambda_n,\\varphi_n\\}_{n=1}^\\infty$ are eigenvalues and (normalized) eigenfunctions of the Strum-Liouville problem:\n",
    "$$-(\\mathscr{G}u)(x)\\equiv \\lambda u(x)$$\n",
    "with the boundary conditions at 0 and $b$:\n",
    "$$\\underset{x\\downarrow0}{lim}\\frac{u'(x)}{\\mathscr{s}(x)}=0, u(b)=0$$\n",
    "\n",
    "This linear ODE turns out to be the solution of *Whittaker's form of the confluent hypergeometric equation*, with the solution:\n",
    "$$\\psi(x,\\lambda)=(2x)^{(1-\\nu)/2}e^{1/4x}W_{(1-\\nu)/2,(1/2)\\sqrt{\\nu^2-2\\lambda}}\\left(\\frac{1}{2x}\\right)$$\n",
    "\n",
    "From Theorem 4.1 in Kent (1980), for fixed $x > 0$ the zeros of $\\psi(x,\\lambda)$ are simple and positive, it can be written as a canonical product\n",
    "$$\\psi(x,\\lambda)=\\prod_{n=1}^\\infty\\left(1-\\frac{\\lambda}{\\lambda_{n,x}}\\right)$$\n",
    "by finding root $\\psi(x,\\lambda)=0$, we solve the eigenvalues $\\lambda_n=\\lambda_{n,b}$ as the zeros of $\\psi(b,\\lambda)$. Consider the two cases: $0<\\lambda\\le\\nu^2/2$ and $\\lambda>\\nu^2/2$"
   ]
  },
  {
   "cell_type": "markdown",
   "metadata": {
    "slideshow": {
     "slide_type": "slide"
    }
   },
   "source": [
    "### Approximation for $0<\\lambda\\le\\nu^2/2$\n",
    "\n",
    "By setting $\\lambda = (\\nu^2-q^2)/2$, we are equivalently solving $q\\in[0,|\\nu|)$. To get precise numerical values of $q_{n,b}$, we need to find the roots of $W_{(1-\\nu)/2,q/2}\\left(\\frac{1}{2x}\\right)$ numerically. However, for large $b$ we can get estimates by using the Whittaker function\n",
    "asymptotics for $\\mu>0$ and $z > 0$:\n",
    "$$W_{\\kappa,\\mu}(z)\\sim\\frac{\\Gamma(2\\mu)}{\\Gamma(1/2+\\mu-\\kappa)}z^{1/2-\\mu}e^{-z/2}$$\n",
    "\n",
    "This gives\n",
    "$$\\psi(b,(\\nu^2-q^2)/2)\\sim\\frac{\\Gamma(q)}{\\Gamma((\\nu+q)/2)}\\left(\\frac{1}{2b}\\right)^{(\\nu-q)/2}$$\n",
    "\n",
    "For $\\nu<0$,  the reciprocal of the gamma function $1/\\Gamma((\\nu+q)/2)$ has zeros $(\\nu+q)/2=-n+1, n = 1,...,[|\\nu|/2]+1$. Thus, for $\\nu < 0$ and *large enough* b, the total number of zeros in $[0,|\\nu|)$ is equal to $N_\\nu(b)=[|\\nu|/2]+1$ and \n",
    "$$q_{n,b}=(|\\nu|-2n+2), n=1,...,[|\\nu|/2]+1$$\n",
    "\n",
    "For $\\nu>0$, $N_\\nu(b)\\equiv0, \\forall b>0$\n",
    "\n",
    "Then the non-normalized eigenfunctions are:\n",
    "$$\\psi(x,\\lambda_{n,b})=(2x)^{(1-\\nu)/2}e^{1/4x}W_{(1-\\nu)/2,q_{n,b}/2}\\left(\\frac{1}{2x}\\right)$$"
   ]
  },
  {
   "attachments": {
    "GammaZeros.png": {
     "image/png": "[encoded data removed]"
    }
   },
   "cell_type": "markdown",
   "metadata": {
    "slideshow": {
     "slide_type": "subslide"
    }
   },
   "source": [
    "![GammaZeros.png](attachment:GammaZeros.png)"
   ]
  },
  {
   "cell_type": "markdown",
   "metadata": {
    "slideshow": {
     "slide_type": "slide"
    }
   },
   "source": [
    "### Approximation for $\\lambda>\\nu^2/2$\n",
    "\n",
    "Setting $\\lambda = (\\nu^2+p^2)/2$. We can obtain estimates that improve with increasing n by using the following estimate of the Whittaker function with purely imaginary second index $\\mu=i\\rho, \\rho >0, \\kappa\\in\\mathbb{R}$ and fixed $z>0$:\n",
    "$$W_{\\kappa,i\\rho}=\\sqrt{2z}e^{\\pi\\rho/2}\\rho^{\\kappa-1/2}\\cos{\\left(\\rho\\ln{\\left(\\frac{z}{4\\rho}\\right)}+\\rho-\\left(\\kappa-\\frac{1}{2}\\right)\\frac{\\pi}{2}\\right)}\\times[1+O(\\rho^{-1})]$$\n",
    "\n",
    "In this case, the root is related to the cosine function, let\n",
    "$$\\frac{p}{2}\\left(-\\ln{(4bp)}+1\\right)+\\frac{1}{4}\\pi\\nu=\\frac{\\pi}{2}+n\\pi $$\n",
    "then the solution of following equation gives the estimate of $p_{n,b}$\n",
    "$$p_{n,b}[\\ln{(4bp_{n,b})}-1]=2\\pi\\left(n+\\frac{\\nu}{4}-\\frac{1}{2}\\right)$$\n",
    "\n",
    "Then the non-normalized eigenfunctions are:\n",
    "$$\\psi(x,\\lambda_{N_\\nu(b)+n,b})=(2x)^{(1-\\nu)/2}e^{1/4x}W_{(1-\\nu)/2,ip_{n,b}/2}\\left(\\frac{1}{2x}\\right)$$"
   ]
  },
  {
   "cell_type": "markdown",
   "metadata": {
    "slideshow": {
     "slide_type": "slide"
    }
   },
   "source": [
    "### Normalization of the eigenfunctions\n",
    "\n",
    "The normalizing factor is related to the other linearly independent solution to the ODE. By calculating the Wronskian, define\n",
    "$$\\xi_{n,b}^{(\\nu)}:=\\frac{\\partial}{\\partial p}\\left.W_{(1-\\nu)/2,ip_{n,b}/2}\\left(\\frac{1}{2b}\\right)\\right|_{p=p_{n,b}}$$\n",
    "$$\\eta_{n,b}^{(\\nu)}:=-\\frac{\\partial}{\\partial q}\\left.W_{(1-\\nu)/2,q_{n,b}/2}\\left(\\frac{1}{2b}\\right)\\right|_{q=q_{n,b}}$$\n",
    "\n",
    "The norms of the non-normalized eigenfunctions are:\n",
    "\n",
    "For $\\lambda\\le\\nu^2/2,\\nu<0$ and $N_\\nu>0$, the norms are given by:\n",
    "$$\\frac{1}{||\\psi(\\bullet,\\lambda_{n,b})||^2}=2^\\nu q_{n,b}\\frac{\\Gamma(\\tfrac{1}{2}(\\nu+q_{n,b}))}{\\eta_{n,b}^{(\\nu)}\\Gamma(1+q_{n,b})}M_{(1-\\nu)/2,q_{n,b}/2}\\left(\\frac{1}{2b}\\right), n=1,...,N_\\nu(b)$$\n",
    "\n",
    "For $\\lambda\\in(\\nu^2/2,\\infty)$, the norms are given by:\n",
    "$$\\frac{1}{||\\psi(\\bullet,\\lambda_{N_\\nu(b)+n,b})||^2}=2^\\nu p_{n,b}\\frac{\\Gamma(\\tfrac{1}{2}(\\nu+ip_{n,b}))}{\\xi_{n,b}^{(\\nu)}\\Gamma(1+ip_{n,b})}M_{(1-\\nu)/2,ip_{n,b}/2}\\left(\\frac{1}{2b}\\right),n=1,2,...$$\n",
    "\n",
    "### Spectral representation for $P_b^{(\\nu)}(k,\\tau)$\n",
    "\n",
    "The transition probability density takes the form\n",
    "$$p_b(t;x,y)=\\sum_{n=1}^\\infty e^{-t\\lambda_{n,b}}\\frac{\\psi(x,\\lambda_{n,b})\\psi(y,\\lambda_{n,b})}{||\\psi(\\bullet,\\lambda_{n,b})||^2}$$\n",
    "\n",
    "Define $c(\\lambda)$ as\n",
    "$$\n",
    "\\begin{align}\n",
    "c(\\lambda)&=\\int_0^k(k-y)\\psi(y,\\lambda)\\mathscr{m}(y)dy\\\\\n",
    "&=2^{-(1+\\nu)/2}k^{(\\nu+3)/2}e^{-1/4k}W_{-(\\nu+3)/2,\\sqrt(\\nu^2-2\\lambda)/2}\\left(\\frac{1}{2k}\\right)\n",
    "\\end{align}$$\n",
    "\n",
    "Then the transformed payoff $P_b^{(\\nu)}(k,\\tau)$ have the spectral representation:\n",
    "$$P_b^{(\\nu)}(k,\\tau)=\\sum_{n=1}^\\infty e^{-\\tau\\lambda_{n,b}}\\frac{c(\\lambda_{n,b})}{||\\psi(\\bullet,\\lambda_{n,b})||^2}$$\n"
   ]
  },
  {
   "cell_type": "markdown",
   "metadata": {
    "slideshow": {
     "slide_type": "slide"
    }
   },
   "source": [
    "## Proposition 1\n",
    "\n",
    "The function $P_b^{(\\nu)}(k,\\tau)$ is given by the following series:\n",
    "$$\\begin{align}\n",
    "P_b^{(\\nu)}(k,\\tau)\\\\\n",
    "=&\\sum_{n=1}^\\infty e^{-\\tau(\\nu^2+p^2_{n,b})/2}p_{n,b}\\frac{\\Gamma(\\tfrac{1}{2}(\\nu+ip_{n,b}))}{4\\xi_{n,b}^{(\\nu)}\\Gamma(1+ip_{n,b})}\\\\\n",
    "&\\times(2k)^{(\\nu+3)/2}e^{-1/4k}W_{-(\\nu+3)/2,(ip_{n,b})/2}\\left(\\frac{1}{2k}\\right)M_{(1-\\nu)/2,ip_{n,b}/2}\\left(\\frac{1}{2b}\\right)\\\\\n",
    "&+\\sum_{n=1}^{N_\\nu(b)} e^{-\\tau(\\nu^2-q^2_{n,b})/2}q_{n,b}\\frac{\\Gamma(\\tfrac{1}{2}(\\nu+q_{n,b}))}{4\\eta_{n,b}^{(\\nu)}\\Gamma(1+q_{n,b})}\\\\\n",
    "&\\times(2k)^{(\\nu+3)/2}e^{-1/4k}W_{-(\\nu+3)/2,q_{n,b}/2}\\left(\\frac{1}{2k}\\right)M_{(1-\\nu)/2,q_{n,b}/2}\\left(\\frac{1}{2b}\\right)\n",
    "\\end{align}$$"
   ]
  },
  {
   "cell_type": "markdown",
   "metadata": {
    "slideshow": {
     "slide_type": "subslide"
    }
   },
   "source": [
    "The final barrier put price can be solved by:\n",
    "$$e^{-rT}\\mathbb{E}[(K-\\mathscr{A}_T)^+]=e^{-rT}\\left(\\frac{4S_0}{\\sigma^2 T}\\right)P_b^{(\\nu)}(k,\\tau)$$\n",
    "\n",
    "By put-call-parity, we have the asian call price to compare:\n",
    "$$e^{-rT}\\mathbb{E}[(\\mathscr{A}_T-K)^+]=e^{-rT}\\mathbb{E}[(K-\\mathscr{A}_T)^+]+\\frac{e^{-qT}-e^{-rT}}{(r-q)T}S_0 - e^{-rT}K$$"
   ]
  },
  {
   "cell_type": "code",
   "execution_count": 1,
   "metadata": {
    "slideshow": {
     "slide_type": "slide"
    }
   },
   "outputs": [],
   "source": [
    "import ExactAsian as ea"
   ]
  },
  {
   "cell_type": "code",
   "execution_count": 2,
   "metadata": {
    "slideshow": {
     "slide_type": "subslide"
    }
   },
   "outputs": [
    {
     "data": {
      "text/plain": [
       "0.3541364096758034"
      ]
     },
     "execution_count": 2,
     "metadata": {},
     "output_type": "execute_result"
    }
   ],
   "source": [
    "c = ea.BsmAsianLinetsky2004(strike = 2.0,\n",
    "                            spot=2.0,\n",
    "                            vol=0.5,\n",
    "                            texp=2,\n",
    "                            intr=0.05,\n",
    "                            divr=0.0,\n",
    "                            b=1.0,\n",
    "                            call=True)\n",
    "c7 = c.exact_asian_price(n_eig=13)\n",
    "c7"
   ]
  },
  {
   "cell_type": "code",
   "execution_count": 3,
   "metadata": {
    "slideshow": {
     "slide_type": "subslide"
    }
   },
   "outputs": [
    {
     "data": {
      "text/plain": [
       "0.3069431156763319"
      ]
     },
     "execution_count": 3,
     "metadata": {},
     "output_type": "execute_result"
    }
   ],
   "source": [
    "c = ea.BsmAsianLinetsky2004(strike = 2.0,\n",
    "                            spot=2.1,\n",
    "                            vol=0.5,\n",
    "                            texp=1,\n",
    "                            intr=0.05,\n",
    "                            divr=0.0,\n",
    "                            b=1.0,\n",
    "                            call=True)\n",
    "c6 = c.exact_asian_price(n_eig=23)\n",
    "c6"
   ]
  },
  {
   "cell_type": "code",
   "execution_count": 4,
   "metadata": {
    "slideshow": {
     "slide_type": "subslide"
    }
   },
   "outputs": [
    {
     "data": {
      "text/plain": [
       "0.24734959809175927"
      ]
     },
     "execution_count": 4,
     "metadata": {},
     "output_type": "execute_result"
    }
   ],
   "source": [
    "c = ea.BsmAsianLinetsky2004(strike = 2.0,\n",
    "                            spot=2.0,\n",
    "                            vol=0.5,\n",
    "                            texp=1,\n",
    "                            intr=0.05,\n",
    "                            divr=0.0,\n",
    "                            b=1.0,\n",
    "                            call=True)\n",
    "c5 = c.exact_asian_price(n_eig=23)\n",
    "c5"
   ]
  },
  {
   "cell_type": "code",
   "execution_count": 5,
   "metadata": {
    "slideshow": {
     "slide_type": "subslide"
    }
   },
   "outputs": [
    {
     "data": {
      "text/plain": [
       "0.19437963526095092"
      ]
     },
     "execution_count": 5,
     "metadata": {},
     "output_type": "execute_result"
    }
   ],
   "source": [
    "c = ea.BsmAsianLinetsky2004(strike = 2.0,\n",
    "                            spot=1.9,\n",
    "                            vol=0.5,\n",
    "                            texp=1,\n",
    "                            intr=0.05,\n",
    "                            divr=0.0,\n",
    "                            b=1.0,\n",
    "                            call=True)\n",
    "c4 = c.exact_asian_price(n_eig=24)\n",
    "c4"
   ]
  },
  {
   "cell_type": "code",
   "execution_count": 6,
   "metadata": {
    "slideshow": {
     "slide_type": "subslide"
    }
   },
   "outputs": [
    {
     "data": {
      "text/plain": [
       "0.17279198671749574"
      ]
     },
     "execution_count": 6,
     "metadata": {},
     "output_type": "execute_result"
    }
   ],
   "source": [
    "c = ea.BsmAsianLinetsky2004(strike = 2.0,\n",
    "                            spot=2.0,\n",
    "                            vol=0.25,\n",
    "                            texp=2,\n",
    "                            intr=0.0125,\n",
    "                            divr=0.0,\n",
    "                            b=1.0,\n",
    "                            call=True)\n",
    "c3 = c.exact_asian_price(n_eig=41)\n",
    "c3"
   ]
  },
  {
   "cell_type": "code",
   "execution_count": 7,
   "metadata": {
    "slideshow": {
     "slide_type": "subslide"
    }
   },
   "outputs": [
    {
     "data": {
      "text/plain": [
       "0.21956906427076406"
      ]
     },
     "execution_count": 7,
     "metadata": {},
     "output_type": "execute_result"
    }
   ],
   "source": [
    "c = ea.BsmAsianLinetsky2004(strike = 2.0,\n",
    "                            spot=2.0,\n",
    "                            vol=0.3,\n",
    "                            texp=1,\n",
    "                            intr=0.18,\n",
    "                            divr=0.0,\n",
    "                            b=1.0,\n",
    "                            call=True)\n",
    "c2 = c.exact_asian_price(n_eig=57)\n",
    "c2"
   ]
  },
  {
   "cell_type": "code",
   "execution_count": 8,
   "metadata": {
    "slideshow": {
     "slide_type": "subslide"
    }
   },
   "outputs": [
    {
     "data": {
      "text/plain": [
       "-256.22228220272973"
      ]
     },
     "execution_count": 8,
     "metadata": {},
     "output_type": "execute_result"
    }
   ],
   "source": [
    "c = ea.BsmAsianLinetsky2004(strike = 2.0,\n",
    "                            spot=2.0,\n",
    "                            vol=0.1,\n",
    "                            texp=1,\n",
    "                            intr=0.02,\n",
    "                            divr=0.0,\n",
    "                            b=1.0,\n",
    "                            call=True)\n",
    "c1 = c.exact_asian_price(n_eig=500)\n",
    "c1 # this converges but gives out an elusive value"
   ]
  },
  {
   "cell_type": "markdown",
   "metadata": {
    "slideshow": {
     "slide_type": "slide"
    }
   },
   "source": [
    "We summarize the numerical results as follows:"
   ]
  },
  {
   "cell_type": "markdown",
   "metadata": {
    "slideshow": {
     "slide_type": "subslide"
    }
   },
   "source": [
    "| Case | Our Replication       | The Paper    |\n",
    "| ---- | --------------------- | ------------ |\n",
    "| 1    | ?                     | 0.0559860415 |\n",
    "| 2    | 0.21*956* | 0.2183875466 |\n",
    "| 3    | 0.172*791* | 0.1722687410 |\n",
    "| 4    | 0.19*437* | 0.1931737903 |\n",
    "| 5    | 0.24*734* | 0.2464156905 |\n",
    "| 6    | 0.306*943* | 0.3062203648 |\n",
    "| 7    | 0.35*413*  | 0.3500952190 |"
   ]
  },
  {
   "cell_type": "markdown",
   "metadata": {},
   "source": [
    "## Analysis\n",
    "\n",
    "We would like to make some analysis based on our codes and results, hopefully it will be helpful for implementation and further improvement.\n",
    "\n",
    "### Accuracy\n",
    "\n",
    "In our `ExactAsian.py` file, we tear the series summation into 5 parts: `p1`, `p2`, `const`, `w1` and `m1` with following expression (for the case with pure imaginary second index in the Whittaker function, the infinite summation part of Equation (15) in the paper)\n",
    "\n",
    "$$p_1 = e^{-(\\nu^2+p_{n,b}^2)\\tau/2}$$\n",
    "\n",
    "$$p_2 = \\frac{p_{n,b}\\Gamma((\\nu+ip_{n,b})/2)}{4\\xi_{n,b}\\Gamma(1+ip_{n,b})}$$\n",
    "\n",
    "$$const = 2k^{(\\nu+3)/2}\\times e^{-1/(4k)}$$\n",
    "\n",
    "$$w_1 = W_{-(\\nu+3)/2,ip_{n,b}/2}\\left(\\frac{1}{2k}\\right)$$\n",
    "\n",
    "$$m_1 = M_{(1-\\nu)/2,ip_{n,b}/2}\\left(\\frac{1}{2b}\\right)$$\n",
    "\n",
    "Comparing the results given by the same function in `Mathematica`, `p2` mostly contributes the error. Further looking into `p2`, we think there are some possible aspects to concern:"
   ]
  },
  {
   "cell_type": "markdown",
   "metadata": {},
   "source": [
    "#### Eigenvalues\n",
    "\n",
    "We find the exactly same values for $p_{n,b}$ comparing to Table 2 in the paper."
   ]
  },
  {
   "cell_type": "code",
   "execution_count": 13,
   "metadata": {
    "scrolled": false
   },
   "outputs": [
    {
     "data": {
      "text/plain": [
       "array([ 4.2721541 ,  6.33345718,  8.19966721,  9.94974532, 11.61929302,\n",
       "       13.22821883, 14.7890835 , 16.31045757, 17.79852112, 19.2579178 ])"
      ]
     },
     "execution_count": 13,
     "metadata": {},
     "output_type": "execute_result"
    }
   ],
   "source": [
    "c.find_zeros_imag(n=11,nu=3)"
   ]
  },
  {
   "cell_type": "code",
   "execution_count": 15,
   "metadata": {
    "scrolled": true
   },
   "outputs": [
    {
     "data": {
      "text/plain": [
       "array([ 2.01930274,  4.49156487,  6.52694892,  8.3791226 , 10.11991323])"
      ]
     },
     "execution_count": 15,
     "metadata": {},
     "output_type": "execute_result"
    }
   ],
   "source": [
    "c.find_zeros_imag(n=6,nu=-0.6)"
   ]
  },
  {
   "cell_type": "markdown",
   "metadata": {},
   "source": [
    "So it's not likely that the error is from $p_{n,b}$."
   ]
  },
  {
   "cell_type": "markdown",
   "metadata": {},
   "source": [
    "#### Gamma Function\n",
    "\n",
    "We also compared the results of Gamma function in `mpmath` package and `Mathematica`, the results are the same."
   ]
  },
  {
   "cell_type": "code",
   "execution_count": 16,
   "metadata": {},
   "outputs": [],
   "source": [
    "import mpmath as m"
   ]
  },
  {
   "cell_type": "code",
   "execution_count": 17,
   "metadata": {},
   "outputs": [],
   "source": [
    "p_vec = c.find_zeros_imag(n=11,nu=3)"
   ]
  },
  {
   "cell_type": "code",
   "execution_count": 21,
   "metadata": {},
   "outputs": [
    {
     "data": {
      "text/plain": [
       "mpc(real='0.12726000595038786', imag='0.14363804118134285')"
      ]
     },
     "execution_count": 21,
     "metadata": {},
     "output_type": "execute_result"
    }
   ],
   "source": [
    "nu = 3\n",
    "m.gamma(complex(nu/2,p_vec[0]/2))"
   ]
  },
  {
   "cell_type": "code",
   "execution_count": 24,
   "metadata": {},
   "outputs": [
    {
     "data": {
      "text/plain": [
       "mpc(real='2.7518238561063786e-6', imag='5.914875567216349e-6')"
      ]
     },
     "execution_count": 24,
     "metadata": {},
     "output_type": "execute_result"
    }
   ],
   "source": [
    "m.gamma(complex(nu/2,p_vec[9]/2))"
   ]
  },
  {
   "cell_type": "markdown",
   "metadata": {},
   "source": [
    "`Mathematica` give the result `0.12726 + 0.143638*I` and `2.75182*10^-6 + 5.91488*10^-6*I` for the first and 10th $p_{n,b}$. So it's not likely that the error is from Gamma function."
   ]
  },
  {
   "cell_type": "markdown",
   "metadata": {},
   "source": [
    "#### Derivative w.r.t. the second index of Whittaker function\n",
    "\n",
    "In the `.py` file, we use `scipy.misc.derivative` to numerically calculate the value, while the author used $HypergeometricU^{(0,1,0)}[a,b,z]$ in `Mathematica`, here are the comparison:"
   ]
  },
  {
   "cell_type": "code",
   "execution_count": 26,
   "metadata": {},
   "outputs": [
    {
     "data": {
      "text/plain": [
       "(-0.010576392192596096+6.0084762587507305e-12j)"
      ]
     },
     "execution_count": 26,
     "metadata": {},
     "output_type": "execute_result"
    }
   ],
   "source": [
    "c.xi_p(nu=3, eigenval=p_vec[0], b=1)"
   ]
  },
  {
   "cell_type": "code",
   "execution_count": 27,
   "metadata": {},
   "outputs": [
    {
     "data": {
      "text/plain": [
       "(1.8960220410634224e-08-1.7625992449015035e-17j)"
      ]
     },
     "execution_count": 27,
     "metadata": {},
     "output_type": "execute_result"
    }
   ],
   "source": [
    "c.xi_p(nu=3, eigenval=p_vec[9], b=1)"
   ]
  },
  {
   "cell_type": "markdown",
   "metadata": {},
   "source": [
    "`Mathematica` gives the result `-0.0105754 + 1.92279*10^-17*I` and `1.89922*10^-8 + 1.18019*10^-23 I` for the first and 10th $p_{n,b}$. The error is more observable in this comparison. We guess if there are closed form formula for the derivative $WhittakerW^{(0,1,0)}[a,b,z]$ in python, we may have a chance to further reduce the deviation."
   ]
  },
  {
   "cell_type": "markdown",
   "metadata": {},
   "source": [
    "#### The overall error of `p2`\n",
    "\n",
    "Let's calculate `p2` and make comparison:"
   ]
  },
  {
   "cell_type": "code",
   "execution_count": 28,
   "metadata": {},
   "outputs": [
    {
     "data": {
      "text/plain": [
       "mpc(real='851.13685258067608', imag='2951.0811552690107')"
      ]
     },
     "execution_count": 28,
     "metadata": {},
     "output_type": "execute_result"
    }
   ],
   "source": [
    "p_vec[0]*m.gamma(complex(nu/2,p_vec[0]/2))/(4*c.xi_p(nu=3, eigenval=p_vec[0], b=1)*m.gamma(complex(1,p_vec[0])))"
   ]
  },
  {
   "cell_type": "code",
   "execution_count": 29,
   "metadata": {},
   "outputs": [
    {
     "data": {
      "text/plain": [
       "mpc(real='1943124015951449.8', imag='704626259404885.13')"
      ]
     },
     "execution_count": 29,
     "metadata": {},
     "output_type": "execute_result"
    }
   ],
   "source": [
    "p_vec[9]*m.gamma(complex(nu/2,p_vec[9]/2))/(4*c.xi_p(nu=3, eigenval=p_vec[9], b=1)*m.gamma(complex(1,p_vec[9])))"
   ]
  },
  {
   "cell_type": "markdown",
   "metadata": {},
   "source": [
    "`Mathematica` gives the result `851.215 + 2951.35*I` and `1.93985*10^15 + 7.03439*10^14*I` for the first and 10th $p_{n,b}$. The author highligted the remarkable capabilities of `Mathematica` in hadling special functions with arbitrary precision arithmetics.\n",
    "\n",
    "The error is more observable in this comparison. The results given by `Mathematica` and our code consistently deviates at the third or forth digit both in `p2` and final price. Thus, we believe that a more accurate derivative contributes to a more accurate result. "
   ]
  },
  {
   "cell_type": "markdown",
   "metadata": {},
   "source": [
    "### Speed\n",
    "\n",
    "This approach reduces the *path generating* process in MC to a *root finding* problem. We use `sympy.solve` to calculate the exact value. \n",
    "\n",
    "Convergence is related to the $\\tau=\\sigma^2 T/4$ parameter. We recommend to use this approach when $\\tau$ is large because this parameter controls the numerical convergence of the series: higher order terms are suppressed with $e^{-p_{n,b}^2\\tau /2}$. Thus, larger $\\tau$ requires less eigenvalues to sum.\n",
    "\n",
    "For smaller values of $\\tau$, we need to sum up more terms in a nearly alternating signs series until $e^{-p_{n,b}^2\\tau /2}$ suppressed the large-n terms, so the accuracy is also affected. In the $\\tau = 0.0025$ case of our implementation, we even get an elusive negative value, while others are fine."
   ]
  },
  {
   "cell_type": "markdown",
   "metadata": {},
   "source": [
    "### Miscellaneous\n",
    "\n",
    "#### Tests for $\\nu=-6$\n",
    "\n",
    "In the paper's setting, the second summation is not tested, for the settings $\\nu=3, -0.6$ give $N_\\nu(b)=0$.\n",
    "\n",
    "We intended to test it for $\\nu=-6$, and encounted the following problem:"
   ]
  },
  {
   "cell_type": "code",
   "execution_count": 1,
   "metadata": {},
   "outputs": [],
   "source": [
    "import ExactAsian as ea\n",
    "c = ea.BsmAsianLinetsky2004(strike = 90.0,\n",
    "                            spot=100.0,\n",
    "                            vol=0.1,\n",
    "                            texp=1,\n",
    "                            intr=0.0,\n",
    "                            divr=0.025,\n",
    "                            b=1.0,\n",
    "                            call=True)"
   ]
  },
  {
   "cell_type": "code",
   "execution_count": 2,
   "metadata": {},
   "outputs": [
    {
     "ename": "ValueError",
     "evalue": "gamma function pole",
     "output_type": "error",
     "traceback": [
      "\u001b[1;31m---------------------------------------------------------------------------\u001b[0m",
      "\u001b[1;31mValueError\u001b[0m                                Traceback (most recent call last)",
      "\u001b[1;32m<ipython-input-2-c719878424df>\u001b[0m in \u001b[0;36m<module>\u001b[1;34m\u001b[0m\n\u001b[1;32m----> 1\u001b[1;33m \u001b[0mc\u001b[0m\u001b[1;33m.\u001b[0m\u001b[0mexact_asian_price\u001b[0m\u001b[1;33m(\u001b[0m\u001b[0mn_eig\u001b[0m\u001b[1;33m=\u001b[0m\u001b[1;36m50\u001b[0m\u001b[1;33m)\u001b[0m\u001b[1;33m\u001b[0m\u001b[1;33m\u001b[0m\u001b[0m\n\u001b[0m",
      "\u001b[1;32m~\\Desktop\\ExactAsian.py\u001b[0m in \u001b[0;36mexact_asian_price\u001b[1;34m(self, n_eig)\u001b[0m\n\u001b[0;32m    104\u001b[0m         \u001b[0mreal_terms\u001b[0m \u001b[1;33m=\u001b[0m \u001b[1;33m[\u001b[0m\u001b[1;33m]\u001b[0m\u001b[1;33m\u001b[0m\u001b[1;33m\u001b[0m\u001b[0m\n\u001b[0;32m    105\u001b[0m         \u001b[1;32mfor\u001b[0m \u001b[0mi\u001b[0m \u001b[1;32min\u001b[0m \u001b[0mrange\u001b[0m\u001b[1;33m(\u001b[0m\u001b[0mlen\u001b[0m\u001b[1;33m(\u001b[0m\u001b[0mq\u001b[0m\u001b[1;33m)\u001b[0m\u001b[1;33m)\u001b[0m\u001b[1;33m:\u001b[0m\u001b[1;33m\u001b[0m\u001b[1;33m\u001b[0m\u001b[0m\n\u001b[1;32m--> 106\u001b[1;33m             \u001b[0mreal_term\u001b[0m \u001b[1;33m=\u001b[0m \u001b[0mself\u001b[0m\u001b[1;33m.\u001b[0m\u001b[0mprice_element_real\u001b[0m\u001b[1;33m(\u001b[0m\u001b[0mnu\u001b[0m\u001b[1;33m=\u001b[0m\u001b[0mnu\u001b[0m\u001b[1;33m,\u001b[0m\u001b[0mtau\u001b[0m\u001b[1;33m=\u001b[0m\u001b[0mtau\u001b[0m\u001b[1;33m,\u001b[0m\u001b[0mq_value\u001b[0m\u001b[1;33m=\u001b[0m\u001b[0mq\u001b[0m\u001b[1;33m[\u001b[0m\u001b[0mi\u001b[0m\u001b[1;33m]\u001b[0m\u001b[1;33m)\u001b[0m\u001b[1;33m\u001b[0m\u001b[1;33m\u001b[0m\u001b[0m\n\u001b[0m\u001b[0;32m    107\u001b[0m             \u001b[0mreal_terms\u001b[0m\u001b[1;33m.\u001b[0m\u001b[0mappend\u001b[0m\u001b[1;33m(\u001b[0m\u001b[0mcomplex\u001b[0m\u001b[1;33m(\u001b[0m\u001b[0mreal_term\u001b[0m\u001b[1;33m)\u001b[0m\u001b[1;33m)\u001b[0m\u001b[1;33m\u001b[0m\u001b[1;33m\u001b[0m\u001b[0m\n\u001b[0;32m    108\u001b[0m \u001b[1;33m\u001b[0m\u001b[0m\n",
      "\u001b[1;32m~\\Desktop\\ExactAsian.py\u001b[0m in \u001b[0;36mprice_element_real\u001b[1;34m(self, nu, tau, q_value)\u001b[0m\n\u001b[0;32m     76\u001b[0m     \u001b[1;32mdef\u001b[0m \u001b[0mprice_element_real\u001b[0m\u001b[1;33m(\u001b[0m\u001b[0mself\u001b[0m\u001b[1;33m,\u001b[0m\u001b[0mnu\u001b[0m\u001b[1;33m,\u001b[0m\u001b[0mtau\u001b[0m\u001b[1;33m,\u001b[0m\u001b[0mq_value\u001b[0m\u001b[1;33m)\u001b[0m\u001b[1;33m:\u001b[0m\u001b[1;33m\u001b[0m\u001b[1;33m\u001b[0m\u001b[0m\n\u001b[0;32m     77\u001b[0m         \u001b[0mp1\u001b[0m \u001b[1;33m=\u001b[0m \u001b[0mm\u001b[0m\u001b[1;33m.\u001b[0m\u001b[0mexp\u001b[0m\u001b[1;33m(\u001b[0m\u001b[1;33m-\u001b[0m\u001b[1;33m(\u001b[0m\u001b[0mnu\u001b[0m\u001b[1;33m**\u001b[0m\u001b[1;36m2\u001b[0m\u001b[1;33m-\u001b[0m\u001b[0mq_value\u001b[0m\u001b[1;33m**\u001b[0m\u001b[1;36m2\u001b[0m\u001b[1;33m)\u001b[0m\u001b[1;33m*\u001b[0m\u001b[0mtau\u001b[0m\u001b[1;33m/\u001b[0m\u001b[1;36m2\u001b[0m\u001b[1;33m)\u001b[0m\u001b[1;33m\u001b[0m\u001b[1;33m\u001b[0m\u001b[0m\n\u001b[1;32m---> 78\u001b[1;33m         \u001b[0mp2\u001b[0m \u001b[1;33m=\u001b[0m \u001b[1;33m(\u001b[0m\u001b[0mq_value\u001b[0m\u001b[1;33m*\u001b[0m\u001b[0mm\u001b[0m\u001b[1;33m.\u001b[0m\u001b[0mgamma\u001b[0m\u001b[1;33m(\u001b[0m\u001b[1;33m(\u001b[0m\u001b[0mnu\u001b[0m\u001b[1;33m+\u001b[0m\u001b[0mq_value\u001b[0m\u001b[1;33m)\u001b[0m\u001b[1;33m/\u001b[0m\u001b[1;36m2\u001b[0m\u001b[1;33m)\u001b[0m\u001b[1;33m)\u001b[0m\u001b[1;33m/\u001b[0m\u001b[1;33m(\u001b[0m\u001b[1;36m4\u001b[0m\u001b[1;33m*\u001b[0m\u001b[0mself\u001b[0m\u001b[1;33m.\u001b[0m\u001b[0meta_q\u001b[0m\u001b[1;33m(\u001b[0m\u001b[0mnu\u001b[0m\u001b[1;33m=\u001b[0m\u001b[0mnu\u001b[0m\u001b[1;33m,\u001b[0m\u001b[0meigenval\u001b[0m\u001b[1;33m=\u001b[0m\u001b[0mq_value\u001b[0m\u001b[1;33m,\u001b[0m\u001b[0mb\u001b[0m\u001b[1;33m=\u001b[0m\u001b[0mself\u001b[0m\u001b[1;33m.\u001b[0m\u001b[0mb\u001b[0m\u001b[1;33m)\u001b[0m\u001b[1;33m*\u001b[0m\u001b[0mm\u001b[0m\u001b[1;33m.\u001b[0m\u001b[0mgamma\u001b[0m\u001b[1;33m(\u001b[0m\u001b[1;36m1\u001b[0m\u001b[1;33m+\u001b[0m\u001b[0mq_value\u001b[0m\u001b[1;33m)\u001b[0m\u001b[1;33m)\u001b[0m\u001b[1;33m\u001b[0m\u001b[1;33m\u001b[0m\u001b[0m\n\u001b[0m\u001b[0;32m     79\u001b[0m         \u001b[0mconst\u001b[0m \u001b[1;33m=\u001b[0m \u001b[1;33m(\u001b[0m\u001b[1;36m2\u001b[0m\u001b[1;33m*\u001b[0m\u001b[0mself\u001b[0m\u001b[1;33m.\u001b[0m\u001b[0mk\u001b[0m\u001b[1;33m)\u001b[0m\u001b[1;33m**\u001b[0m\u001b[1;33m(\u001b[0m\u001b[1;33m(\u001b[0m\u001b[0mnu\u001b[0m\u001b[1;33m+\u001b[0m\u001b[1;36m3\u001b[0m\u001b[1;33m)\u001b[0m\u001b[1;33m/\u001b[0m\u001b[1;36m2\u001b[0m\u001b[1;33m)\u001b[0m\u001b[1;33m*\u001b[0m\u001b[0mm\u001b[0m\u001b[1;33m.\u001b[0m\u001b[0mexp\u001b[0m\u001b[1;33m(\u001b[0m\u001b[1;33m-\u001b[0m\u001b[1;36m1\u001b[0m\u001b[1;33m/\u001b[0m\u001b[1;33m(\u001b[0m\u001b[1;36m4\u001b[0m\u001b[1;33m*\u001b[0m\u001b[0mself\u001b[0m\u001b[1;33m.\u001b[0m\u001b[0mk\u001b[0m\u001b[1;33m)\u001b[0m\u001b[1;33m)\u001b[0m\u001b[1;33m\u001b[0m\u001b[1;33m\u001b[0m\u001b[0m\n\u001b[0;32m     80\u001b[0m         \u001b[0mw1\u001b[0m \u001b[1;33m=\u001b[0m \u001b[0mm\u001b[0m\u001b[1;33m.\u001b[0m\u001b[0mwhitw\u001b[0m\u001b[1;33m(\u001b[0m\u001b[1;33m-\u001b[0m\u001b[1;33m(\u001b[0m\u001b[0mnu\u001b[0m\u001b[1;33m+\u001b[0m\u001b[1;36m3\u001b[0m\u001b[1;33m)\u001b[0m\u001b[1;33m/\u001b[0m\u001b[1;36m2\u001b[0m\u001b[1;33m,\u001b[0m\u001b[0mq_value\u001b[0m\u001b[1;33m/\u001b[0m\u001b[1;36m2\u001b[0m\u001b[1;33m,\u001b[0m\u001b[1;36m1\u001b[0m\u001b[1;33m/\u001b[0m\u001b[1;33m(\u001b[0m\u001b[1;36m2\u001b[0m\u001b[1;33m*\u001b[0m\u001b[0mself\u001b[0m\u001b[1;33m.\u001b[0m\u001b[0mk\u001b[0m\u001b[1;33m)\u001b[0m\u001b[1;33m)\u001b[0m\u001b[1;33m\u001b[0m\u001b[1;33m\u001b[0m\u001b[0m\n",
      "\u001b[1;32mF:\\anaconda3\\lib\\site-packages\\mpmath\\ctx_mp_python.py\u001b[0m in \u001b[0;36mf\u001b[1;34m(x, **kwargs)\u001b[0m\n\u001b[0;32m   1010\u001b[0m             \u001b[1;32mif\u001b[0m \u001b[0mhasattr\u001b[0m\u001b[1;33m(\u001b[0m\u001b[0mx\u001b[0m\u001b[1;33m,\u001b[0m \u001b[1;34m'_mpf_'\u001b[0m\u001b[1;33m)\u001b[0m\u001b[1;33m:\u001b[0m\u001b[1;33m\u001b[0m\u001b[1;33m\u001b[0m\u001b[0m\n\u001b[0;32m   1011\u001b[0m                 \u001b[1;32mtry\u001b[0m\u001b[1;33m:\u001b[0m\u001b[1;33m\u001b[0m\u001b[1;33m\u001b[0m\u001b[0m\n\u001b[1;32m-> 1012\u001b[1;33m                     \u001b[1;32mreturn\u001b[0m \u001b[0mctx\u001b[0m\u001b[1;33m.\u001b[0m\u001b[0mmake_mpf\u001b[0m\u001b[1;33m(\u001b[0m\u001b[0mmpf_f\u001b[0m\u001b[1;33m(\u001b[0m\u001b[0mx\u001b[0m\u001b[1;33m.\u001b[0m\u001b[0m_mpf_\u001b[0m\u001b[1;33m,\u001b[0m \u001b[0mprec\u001b[0m\u001b[1;33m,\u001b[0m \u001b[0mrounding\u001b[0m\u001b[1;33m)\u001b[0m\u001b[1;33m)\u001b[0m\u001b[1;33m\u001b[0m\u001b[1;33m\u001b[0m\u001b[0m\n\u001b[0m\u001b[0;32m   1013\u001b[0m                 \u001b[1;32mexcept\u001b[0m \u001b[0mComplexResult\u001b[0m\u001b[1;33m:\u001b[0m\u001b[1;33m\u001b[0m\u001b[1;33m\u001b[0m\u001b[0m\n\u001b[0;32m   1014\u001b[0m                     \u001b[1;31m# Handle propagation to complex\u001b[0m\u001b[1;33m\u001b[0m\u001b[1;33m\u001b[0m\u001b[1;33m\u001b[0m\u001b[0m\n",
      "\u001b[1;32mF:\\anaconda3\\lib\\site-packages\\mpmath\\libmp\\gammazeta.py\u001b[0m in \u001b[0;36mmpf_gamma\u001b[1;34m(x, prec, rnd, type)\u001b[0m\n\u001b[0;32m   1952\u001b[0m             \u001b[1;32mif\u001b[0m \u001b[0mtype\u001b[0m \u001b[1;33m==\u001b[0m \u001b[1;36m2\u001b[0m\u001b[1;33m:\u001b[0m\u001b[1;33m\u001b[0m\u001b[1;33m\u001b[0m\u001b[0m\n\u001b[0;32m   1953\u001b[0m                 \u001b[1;32mreturn\u001b[0m \u001b[0mfzero\u001b[0m\u001b[1;33m\u001b[0m\u001b[1;33m\u001b[0m\u001b[0m\n\u001b[1;32m-> 1954\u001b[1;33m             \u001b[1;32mraise\u001b[0m \u001b[0mValueError\u001b[0m\u001b[1;33m(\u001b[0m\u001b[1;34m\"gamma function pole\"\u001b[0m\u001b[1;33m)\u001b[0m\u001b[1;33m\u001b[0m\u001b[1;33m\u001b[0m\u001b[0m\n\u001b[0m\u001b[0;32m   1955\u001b[0m         \u001b[1;31m# n = x\u001b[0m\u001b[1;33m\u001b[0m\u001b[1;33m\u001b[0m\u001b[1;33m\u001b[0m\u001b[0m\n\u001b[0;32m   1956\u001b[0m         \u001b[0mn\u001b[0m \u001b[1;33m=\u001b[0m \u001b[0mman\u001b[0m \u001b[1;33m<<\u001b[0m \u001b[0mexp\u001b[0m\u001b[1;33m\u001b[0m\u001b[1;33m\u001b[0m\u001b[0m\n",
      "\u001b[1;31mValueError\u001b[0m: gamma function pole"
     ]
    }
   ],
   "source": [
    "c.exact_asian_price(n_eig=50)"
   ]
  },
  {
   "cell_type": "markdown",
   "metadata": {},
   "source": [
    "We looked into the case where $\\nu<0$ and $\\lambda\\in(0,\\nu^2/2]$. The zeros are related to the reciprocal of the gamma function. Recalling the approximation (Equation 27 in the paper):\n",
    "\n",
    "$$\\psi(b,(\\nu^2-q^2)/2)\\sim\\frac{\\Gamma(q)}{\\Gamma((\\nu+q)/2)}\\left(\\frac{1}{2b}\\right)^{(\\nu-q)/2}$$\n",
    "\n",
    "It requires the $q_{n,b}$ value to satisfy:\n",
    "$$q_{n,b}=(|\\nu|-2n+2), n=1,...,[|\\nu|/2]+1$$\n",
    "\n",
    "Here are the $q_{n,b}$ values in the $\\nu=-6$ case"
   ]
  },
  {
   "cell_type": "code",
   "execution_count": 3,
   "metadata": {
    "scrolled": true
   },
   "outputs": [
    {
     "data": {
      "text/plain": [
       "array([4, 2, 0])"
      ]
     },
     "execution_count": 3,
     "metadata": {},
     "output_type": "execute_result"
    }
   ],
   "source": [
    "c.find_zeros_real(nu=-6)"
   ]
  },
  {
   "cell_type": "markdown",
   "metadata": {},
   "source": [
    "The summation part includes the term $\\Gamma(\\tfrac{1}{2}(\\nu+q_{n,b}))$. With the $q_{n,b}$ values above, we have $\\Gamma(-1),\\Gamma(-2),\\Gamma(-3)$, and this is the reason for the `ValueError: gamma function pole`. The derivation given by the author seems convincing, so we don't know where it goes wrong."
   ]
  },
  {
   "cell_type": "markdown",
   "metadata": {},
   "source": [
    "#### Vectorization\n",
    "\n",
    "Unfortunately, all our functions are wriitten in `for` loop. The `mpmath.hyper()` is the function $\\,_n F_n$, it recognizes the vector as the type of the hypergeometric function. Here is an example of $\\,_3 F_2$:"
   ]
  },
  {
   "cell_type": "code",
   "execution_count": 4,
   "metadata": {},
   "outputs": [
    {
     "data": {
      "text/plain": [
       "mpc(real='0.51200000000000001', imag='0.56599999999999995')"
      ]
     },
     "execution_count": 4,
     "metadata": {},
     "output_type": "execute_result"
    }
   ],
   "source": [
    "import mpmath as m\n",
    "m.hyper([1,3,5],[2,4],0.5j)"
   ]
  }
 ],
 "metadata": {
  "kernelspec": {
   "display_name": "Python 3",
   "language": "python",
   "name": "python3"
  },
  "language_info": {
   "codemirror_mode": {
    "name": "ipython",
    "version": 3
   },
   "file_extension": ".py",
   "mimetype": "text/x-python",
   "name": "python",
   "nbconvert_exporter": "python",
   "pygments_lexer": "ipython3",
   "version": "3.7.3"
  }
 },
 "nbformat": 4,
 "nbformat_minor": 4
}
